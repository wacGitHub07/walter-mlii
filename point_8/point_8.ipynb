{
 "cells": [
  {
   "attachments": {},
   "cell_type": "markdown",
   "metadata": {},
   "source": [
    "## 8. What strategies do you know (or can think of) in order to make PCA more robust?"
   ]
  },
  {
   "attachments": {},
   "cell_type": "markdown",
   "metadata": {},
   "source": [
    "## Sparce PCA"
   ]
  },
  {
   "attachments": {},
   "cell_type": "markdown",
   "metadata": {},
   "source": [
    "Sparse PCA is a specialized variant of Principal Component Analysis (PCA) in machine learning that is used in statistical analysis, especially when analyzing multivariate data. It is used to reduce the dimensionality of a dataset by introducing sparsity structures in the input features.\n",
    "\n",
    "Using the standard PCA, we can only select the most important midrange features, assuming each instance can be rebuilt using the same components. But by using the sparse method, we can use a limited number of components, but without the limitation given by a dense projection matrix. This can be done using a sparse matrix, where the number of non-zero elements is quite low\n",
    "\n",
    "It is an improved version of the PCA algorithm that retains some degrees of scattering, that is, those data that generate a greater scatter with respect to the other data. Typically, PCA sparseness is controlled by a hyperparameter called alpha, which allows you to generate linear transformations of the data based on the amount of sparseness in the data that you want to control. Unlike the classic PCA, the sparse PCA performs a finer dimension reduction, which, the consumption of RAM memory is greater with respect to the classic PCA.\n",
    "\n",
    "Reference: \n",
    "- https://thecleverprogrammer.com/2021/05/09/sparse-pca-in-machine-learning/\n"
   ]
  },
  {
   "attachments": {},
   "cell_type": "markdown",
   "metadata": {},
   "source": [
    "Example"
   ]
  },
  {
   "cell_type": "code",
   "execution_count": 1,
   "metadata": {},
   "outputs": [
    {
     "name": "stdout",
     "output_type": "stream",
     "text": [
      "(1797, 64)\n"
     ]
    }
   ],
   "source": [
    "from sklearn.decomposition import SparsePCA\n",
    "from sklearn.datasets import load_digits\n",
    "digits = load_digits()\n",
    "print(digits.data.shape)"
   ]
  },
  {
   "cell_type": "code",
   "execution_count": 2,
   "metadata": {},
   "outputs": [
    {
     "name": "stdout",
     "output_type": "stream",
     "text": [
      "(60, 64)\n"
     ]
    }
   ],
   "source": [
    "sparse_pca = SparsePCA(n_components=60, alpha=0.1)\n",
    "sparse_pca.fit_transform(digits.data / 255)\n",
    "print(sparse_pca.components_.shape)"
   ]
  },
  {
   "attachments": {},
   "cell_type": "markdown",
   "metadata": {},
   "source": [
    "## Incremental PCA"
   ]
  },
  {
   "attachments": {},
   "cell_type": "markdown",
   "metadata": {},
   "source": [
    "Incremental principal component analysis (IPCA) is typically used as a replacement for principal component analysis (PCA) when the dataset to be decomposed is too large to fit in memory. IPCA builds a low-rank approximation for the input data using an amount of memory which is independent of the number of input data samples. It is still dependent on the input data features, but changing the batch size allows for control of memory usage."
   ]
  },
  {
   "attachments": {},
   "cell_type": "markdown",
   "metadata": {},
   "source": [
    "Example"
   ]
  },
  {
   "cell_type": "code",
   "execution_count": 8,
   "metadata": {},
   "outputs": [
    {
     "name": "stdout",
     "output_type": "stream",
     "text": [
      "(1797, 64)\n"
     ]
    }
   ],
   "source": [
    "from sklearn.decomposition import IncrementalPCA\n",
    "from sklearn.datasets import load_digits\n",
    "digits = load_digits()\n",
    "print(digits.data.shape)"
   ]
  },
  {
   "cell_type": "code",
   "execution_count": 9,
   "metadata": {},
   "outputs": [
    {
     "name": "stdout",
     "output_type": "stream",
     "text": [
      "(5, 64)\n"
     ]
    }
   ],
   "source": [
    "incremental_pca = IncrementalPCA(n_components=5, batch_size=10)\n",
    "incremental_pca.fit_transform(digits.data / 255)\n",
    "print(incremental_pca.components_.shape)"
   ]
  }
 ],
 "metadata": {
  "kernelspec": {
   "display_name": "pymlii",
   "language": "python",
   "name": "python3"
  },
  "language_info": {
   "codemirror_mode": {
    "name": "ipython",
    "version": 3
   },
   "file_extension": ".py",
   "mimetype": "text/x-python",
   "name": "python",
   "nbconvert_exporter": "python",
   "pygments_lexer": "ipython3",
   "version": "3.10.9"
  },
  "orig_nbformat": 4
 },
 "nbformat": 4,
 "nbformat_minor": 2
}
