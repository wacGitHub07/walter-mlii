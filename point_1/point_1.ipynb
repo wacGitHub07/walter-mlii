{
 "cells": [
  {
   "cell_type": "code",
   "execution_count": 118,
   "metadata": {},
   "outputs": [],
   "source": [
    "# Libraries\n",
    "import numpy as np\n",
    "import random"
   ]
  },
  {
   "attachments": {},
   "cell_type": "markdown",
   "metadata": {},
   "source": [
    "### 1. Simulate any random rectangular matrix A."
   ]
  },
  {
   "attachments": {},
   "cell_type": "markdown",
   "metadata": {},
   "source": [
    "To generate random matrix we going o use random numpy function. This is going to generate a matrix with a min shape (2,2) and a max shape (20,20). Is easy increase or decrease this parameters"
   ]
  },
  {
   "cell_type": "code",
   "execution_count": 134,
   "metadata": {},
   "outputs": [
    {
     "data": {
      "text/plain": [
       "(6, 6)"
      ]
     },
     "execution_count": 134,
     "metadata": {},
     "output_type": "execute_result"
    }
   ],
   "source": [
    "m = np.random.randint(low=2, high=20)\n",
    "n = np.random.randint(low=2, high=20)\n",
    "m,n"
   ]
  },
  {
   "attachments": {},
   "cell_type": "markdown",
   "metadata": {},
   "source": [
    "Now we generate the A matrix with shape n,p and float random values"
   ]
  },
  {
   "cell_type": "code",
   "execution_count": 135,
   "metadata": {},
   "outputs": [
    {
     "name": "stdout",
     "output_type": "stream",
     "text": [
      "[[13. 29. 27. 14. 20.  1.]\n",
      " [31. 24.  8. 15. 30.  4.]\n",
      " [33. 28. 10. 26. 16. 18.]\n",
      " [ 0. 17. 35.  5. 25.  7.]\n",
      " [21. 23.  6. 22. 32.  9.]\n",
      " [ 3.  2. 34. 12. 19. 11.]]\n"
     ]
    }
   ],
   "source": [
    "randomlist = random.sample(range(0, m*n), m*n)\n",
    "A = np.array(randomlist).reshape((m,n)).astype('float')\n",
    "print(A)"
   ]
  },
  {
   "attachments": {},
   "cell_type": "markdown",
   "metadata": {},
   "source": [
    "### What is the rank and trace of A?"
   ]
  },
  {
   "attachments": {},
   "cell_type": "markdown",
   "metadata": {},
   "source": [
    "To calculate the rank of A we going to use the function linalg.matrix_rank of numpy. This value means that there are n max num of columns (or rows) linearly independent"
   ]
  },
  {
   "cell_type": "code",
   "execution_count": 136,
   "metadata": {},
   "outputs": [
    {
     "name": "stdout",
     "output_type": "stream",
     "text": [
      "Number of vectos linearly independent: 6\n"
     ]
    }
   ],
   "source": [
    "rank = np.linalg.matrix_rank(A)\n",
    "print(f\"Number of vectos linearly independent: {rank}\")"
   ]
  },
  {
   "attachments": {},
   "cell_type": "markdown",
   "metadata": {},
   "source": [
    "### What is the determinant of A?"
   ]
  },
  {
   "attachments": {},
   "cell_type": "markdown",
   "metadata": {},
   "source": [
    "We gonna to use the function linalg.det to calculated. This function use the LU factorization. For this case we need to check that m is equal to n because the determinat is denifed only fo square matrix"
   ]
  },
  {
   "cell_type": "code",
   "execution_count": 137,
   "metadata": {},
   "outputs": [
    {
     "name": "stdout",
     "output_type": "stream",
     "text": [
      "The determinant of A is : -79296324.99999984\n"
     ]
    }
   ],
   "source": [
    "if A.shape[0] == A.shape[1]:\n",
    "    determinant = np.linalg.det(A)\n",
    "    print(f\"The determinant of A is : {determinant}\")\n",
    "else:\n",
    "    print(f\"Matrix must be sqare\")"
   ]
  },
  {
   "attachments": {},
   "cell_type": "markdown",
   "metadata": {},
   "source": [
    "### Can you invert A? How?"
   ]
  },
  {
   "attachments": {},
   "cell_type": "markdown",
   "metadata": {},
   "source": [
    "We can inver the matrix A with the numpy function linalg.inv, but, we need to make sure of the folling condition:\n",
    "- A is invertible is different from zero\n",
    "\n"
   ]
  },
  {
   "cell_type": "code",
   "execution_count": 138,
   "metadata": {},
   "outputs": [
    {
     "name": "stdout",
     "output_type": "stream",
     "text": [
      "The inverse of A is: \n",
      "[[-0.00831272  0.05866955  0.00943586 -0.01708394 -0.05104385  0.01661557]\n",
      " [ 0.01367921 -0.02351982  0.01831979  0.03811038  0.00471781 -0.05078083]\n",
      " [ 0.0186976   0.01145312 -0.00059937 -0.00787731 -0.03120567  0.02566099]\n",
      " [ 0.05680119 -0.0485689  -0.01578702 -0.08187255  0.05483268  0.04556859]\n",
      " [-0.02565058  0.01555551 -0.02352737  0.01994227  0.03020619 -0.00223004]\n",
      " [-0.07567199 -0.02100936  0.05380871  0.07694792 -0.00247464 -0.02956464]]\n"
     ]
    }
   ],
   "source": [
    "if A.shape[0] == A.shape[1]:\n",
    "    determinant = np.linalg.det(A)\n",
    "    if determinant != 0:\n",
    "        inverse = np.linalg.inv(A)\n",
    "        print(\"The inverse of A is: \")\n",
    "        print(inverse)\n",
    "    else:\n",
    "        print(f\"Matrix is not invertible - determinant : {determinant}\")\n",
    "else:\n",
    "    print(f\"Matrix must be sqare\")"
   ]
  },
  {
   "attachments": {},
   "cell_type": "markdown",
   "metadata": {},
   "source": [
    "### How are eigenvalues and eigenvectors of A’A and AA’ related? What interesting differences can you notice between both?"
   ]
  },
  {
   "attachments": {},
   "cell_type": "markdown",
   "metadata": {},
   "source": [
    "We gonna to calculare eigenvalues and eigenvectors with numpy function linalg.eig"
   ]
  },
  {
   "attachments": {},
   "cell_type": "markdown",
   "metadata": {},
   "source": [
    "AT A"
   ]
  },
  {
   "cell_type": "code",
   "execution_count": 139,
   "metadata": {},
   "outputs": [],
   "source": [
    "AtA = np.dot(A.T, A)\n",
    "eigenvalues_ata, eigenvectors_ata = np.linalg.eig(AtA)"
   ]
  },
  {
   "cell_type": "code",
   "execution_count": 140,
   "metadata": {},
   "outputs": [
    {
     "name": "stdout",
     "output_type": "stream",
     "text": [
      "[12113.71907608  2051.74563373    78.97428924    32.62197314\n",
      "   360.66771671   272.27131111]\n"
     ]
    }
   ],
   "source": [
    "print(eigenvalues_ata)"
   ]
  },
  {
   "cell_type": "code",
   "execution_count": 141,
   "metadata": {},
   "outputs": [
    {
     "name": "stdout",
     "output_type": "stream",
     "text": [
      "[[ 0.40924565 -0.53558985 -0.71723067  0.02615685 -0.1729904   0.02513574]\n",
      " [ 0.47915019 -0.17865192  0.35114222  0.22706763  0.36078697  0.65838497]\n",
      " [ 0.40343323  0.79612342 -0.31056402 -0.10121057 -0.20401551  0.23476203]\n",
      " [ 0.36163756 -0.19074466  0.41901091 -0.69691294 -0.40740671 -0.07481129]\n",
      " [ 0.524577    0.1043739   0.08744606  0.09588592  0.46947174 -0.69042046]\n",
      " [ 0.18496475 -0.01170726  0.28742362  0.66530502 -0.64179498 -0.16884036]]\n"
     ]
    }
   ],
   "source": [
    "print(eigenvectors_ata)"
   ]
  },
  {
   "attachments": {},
   "cell_type": "markdown",
   "metadata": {},
   "source": [
    "A AT"
   ]
  },
  {
   "cell_type": "code",
   "execution_count": 142,
   "metadata": {},
   "outputs": [],
   "source": [
    "AAt = np.dot(A, A.T)\n",
    "eigenvalues_aat, eigenvectors_aat = np.linalg.eig(AAt)"
   ]
  },
  {
   "cell_type": "code",
   "execution_count": 143,
   "metadata": {},
   "outputs": [
    {
     "name": "stdout",
     "output_type": "stream",
     "text": [
      "[12113.71907608  2051.74563373   360.66771671   272.27131111\n",
      "    32.62197314    78.97428924]\n"
     ]
    }
   ],
   "source": [
    "print(eigenvalues_aat)"
   ]
  },
  {
   "cell_type": "code",
   "execution_count": 144,
   "metadata": {},
   "outputs": [
    {
     "name": "stdout",
     "output_type": "stream",
     "text": [
      "[[ 0.41656098 -0.19332977 -0.30274326  0.6505137  -0.52200104  0.04235461]\n",
      " [ 0.44806804  0.31567166 -0.37227308 -0.24554197  0.09365287 -0.70138254]\n",
      " [ 0.47319381  0.40214399  0.64662079  0.33822504  0.2799395   0.05905147]\n",
      " [ 0.34964804 -0.58285046 -0.22115605  0.03592376  0.6806363   0.15673321]\n",
      " [ 0.44013588  0.25479895 -0.19615356 -0.49571328 -0.19458838  0.6475225 ]\n",
      " [ 0.29296118 -0.54462652  0.51405701 -0.39385621 -0.37315885 -0.24275678]]\n"
     ]
    }
   ],
   "source": [
    "print(eigenvectors_aat)"
   ]
  },
  {
   "attachments": {},
   "cell_type": "markdown",
   "metadata": {},
   "source": [
    "For this values we can note that:\n",
    "- The eigenvalues are the same but in different order\n",
    "- The eigenvalues are the same but the eigenvector are different"
   ]
  }
 ],
 "metadata": {
  "kernelspec": {
   "display_name": "pymlii",
   "language": "python",
   "name": "python3"
  },
  "language_info": {
   "codemirror_mode": {
    "name": "ipython",
    "version": 3
   },
   "file_extension": ".py",
   "mimetype": "text/x-python",
   "name": "python",
   "nbconvert_exporter": "python",
   "pygments_lexer": "ipython3",
   "version": "3.10.9"
  },
  "orig_nbformat": 4
 },
 "nbformat": 4,
 "nbformat_minor": 2
}
